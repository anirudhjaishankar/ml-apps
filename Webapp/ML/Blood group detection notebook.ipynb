{
 "cells": [
  {
   "cell_type": "code",
   "execution_count": 1,
   "metadata": {},
   "outputs": [
    {
     "name": "stderr",
     "output_type": "stream",
     "text": [
      "Using TensorFlow backend.\n"
     ]
    }
   ],
   "source": [
    "import cv2\n",
    "import numpy as np\n",
    "import keras.utils as utils"
   ]
  },
  {
   "cell_type": "code",
   "execution_count": 2,
   "metadata": {},
   "outputs": [
    {
     "name": "stdout",
     "output_type": "stream",
     "text": [
      "(24, 80, 80, 3)\n",
      "(8, 80, 80, 3)\n",
      "(24, 2)\n",
      "(8, 2)\n"
     ]
    }
   ],
   "source": [
    "df_X = []\n",
    "val_X = []\n",
    "for i in range(1,13):\n",
    "    img = cv2.imread('Agglutinated/'+str(i)+'.png')\n",
    "    df_X.append(img)\n",
    "\n",
    "for i in range(1,13):\n",
    "    img = cv2.imread('Not Agglutinated/'+str(i)+'.png')\n",
    "    df_X.append(img)\n",
    "    \n",
    "df_X = np.array(df_X)\n",
    "print(df_X.shape)\n",
    "\n",
    "for i in range(13,16):\n",
    "    img = cv2.imread('Validation/'+str(i)+'.png')\n",
    "    val_X.append(img)\n",
    "\n",
    "for i in range(25,30):\n",
    "    img = cv2.imread('Validation/'+str(i)+'.png')\n",
    "    val_X.append(img)\n",
    "    \n",
    "val_X = np.array(val_X) \n",
    "print(val_X.shape)\n",
    "\n",
    "df_y = np.ones(12, dtype= int)\n",
    "zeros = np.zeros(12, dtype = int)\n",
    "df_y = np.concatenate((df_y, zeros))\n",
    "\n",
    "df_y = utils.to_categorical(df_y,dtype=int)\n",
    "print(df_y.shape)\n",
    "\n",
    "val_y = np.concatenate((np.ones(3, dtype=int),np.zeros(5, dtype=int)))\n",
    "val_y = utils.to_categorical(val_y,dtype=int)\n",
    "print(val_y.shape)\n",
    "\n"
   ]
  },
  {
   "cell_type": "code",
   "execution_count": 8,
   "metadata": {},
   "outputs": [],
   "source": [
    "#Model Construction\n",
    "from keras.models import Sequential\n",
    "from keras.layers import Conv2D, Flatten, Dense, Dropout, MaxPooling2D\n",
    "\n",
    "\n",
    "model = Sequential()\n",
    "#layer 1\n",
    "model.add(Conv2D(32, (3,3), activation = 'relu', padding = 'same', name='conv_1', input_shape=(80,80,3)))\n",
    "model.add(MaxPooling2D((2,2), name='maxpool_1'))\n",
    "#layer 2\n",
    "model.add(Conv2D(32, (3,3), activation = 'relu', padding = 'same', name='conv_2'))\n",
    "model.add(MaxPooling2D((2,2), name='maxpool_2'))\n",
    "#layer 3\n",
    "model.add(Conv2D(32, (3,3), activation = 'relu', padding = 'same', name='conv_3'))\n",
    "model.add(MaxPooling2D((2,2), name='maxpool_3'))\n",
    "#layer 4\n",
    "model.add(Conv2D(32, (3,3), activation = 'relu', padding = 'same', name='conv_4'))\n",
    "model.add(MaxPooling2D((2,2), name='maxpool_4'))\n",
    "#flattening\n",
    "model.add(Flatten())\n",
    "#dropout\n",
    "model.add(Dropout(0.3))\n",
    "#adding FC layers\n",
    "model.add(Dense(512, activation = 'relu', name='FC1'))\n",
    "model.add(Dense(128, activation = 'relu', name='FC2'))\n",
    "#output layer\n",
    "model.add(Dense(2, activation='softmax', name='output'))\n",
    "\n",
    "model.compile(optimizer='adam',loss='binary_crossentropy', metrics=['accuracy'])"
   ]
  },
  {
   "cell_type": "code",
   "execution_count": 12,
   "metadata": {},
   "outputs": [
    {
     "name": "stdout",
     "output_type": "stream",
     "text": [
      "Epoch 1/10\n",
      "1/0 [========================================] - 0s 440ms/step - loss: 0.4943 - acc: 0.7083 - val_loss: 10.0189 - val_acc: 0.3750\n",
      "Epoch 2/10\n",
      "1/0 [========================================] - 0s 398ms/step - loss: 0.4728 - acc: 0.7917 - val_loss: 6.8369 - val_acc: 0.5000\n",
      "Epoch 3/10\n",
      "1/0 [========================================] - 0s 385ms/step - loss: 0.4778 - acc: 0.8333 - val_loss: 8.7845 - val_acc: 0.3750\n",
      "Epoch 4/10\n",
      "1/0 [========================================] - 0s 417ms/step - loss: 0.3635 - acc: 0.8750 - val_loss: 10.0189 - val_acc: 0.3750\n",
      "Epoch 5/10\n",
      "1/0 [========================================] - 0s 434ms/step - loss: 0.3842 - acc: 0.7917 - val_loss: 4.0076 - val_acc: 0.7500\n",
      "Epoch 6/10\n",
      "1/0 [========================================] - 0s 386ms/step - loss: 0.3564 - acc: 0.8333 - val_loss: 6.0113 - val_acc: 0.6250\n",
      "Epoch 7/10\n",
      "1/0 [========================================] - 0s 411ms/step - loss: 0.2847 - acc: 0.9167 - val_loss: 6.0113 - val_acc: 0.6250\n",
      "Epoch 8/10\n",
      "1/0 [========================================] - 0s 422ms/step - loss: 0.3267 - acc: 0.8750 - val_loss: 6.0113 - val_acc: 0.6250\n",
      "Epoch 9/10\n",
      "1/0 [========================================] - 0s 410ms/step - loss: 0.2320 - acc: 0.9167 - val_loss: 6.0113 - val_acc: 0.6250\n",
      "Epoch 10/10\n",
      "1/0 [========================================] - 0s 432ms/step - loss: 0.2577 - acc: 0.8333 - val_loss: 6.0113 - val_acc: 0.6250\n"
     ]
    }
   ],
   "source": [
    "#Data Agumentation\n",
    "from keras.preprocessing.image import ImageDataGenerator\n",
    "\n",
    "datagen = ImageDataGenerator(\n",
    "    featurewise_center=True,\n",
    "    featurewise_std_normalization=True,\n",
    "    rotation_range=20,\n",
    "    width_shift_range=0.2,\n",
    "    height_shift_range=0.2,\n",
    "    horizontal_flip=True)\n",
    "\n",
    "\n",
    "datagen.fit(df_X)\n",
    "\n",
    "\n",
    "\n",
    "history = model.fit_generator(datagen.flow(df_X, df_y, batch_size = 10000), validation_data=(val_X, val_y), validation_steps = 20,\n",
    "                    steps_per_epoch=len(df_X) / 32, epochs = 10)"
   ]
  },
  {
   "cell_type": "code",
   "execution_count": 11,
   "metadata": {},
   "outputs": [
    {
     "data": {
      "image/png": "[encoded data removed]",
      "text/plain": [
       "<Figure size 432x288 with 1 Axes>"
      ]
     },
     "metadata": {
      "needs_background": "light"
     },
     "output_type": "display_data"
    },
    {
     "data": {
      "image/png": "[encoded data removed]",
      "text/plain": [
       "<Figure size 432x288 with 1 Axes>"
      ]
     },
     "metadata": {
      "needs_background": "light"
     },
     "output_type": "display_data"
    }
   ],
   "source": [
    "import matplotlib.pyplot as plt\n",
    "def smooth_curve(points, factor=0.8):\n",
    "    smoothed = []\n",
    "    for point in points:\n",
    "        if smoothed:\n",
    "            previous = smoothed[-1]\n",
    "            smoothed.append(previous * factor + point * (1 - factor))\n",
    "        else:\n",
    "            smoothed.append(point)\n",
    "    return smoothed\n",
    "\n",
    "def plot_compare(history, steps=-1):\n",
    "    if steps < 0:\n",
    "        steps = len(history.history['acc'])\n",
    "    acc = smooth_curve(history.history['acc'][:steps])\n",
    "    val_acc = smooth_curve(history.history['val_acc'][:steps])\n",
    "    loss = smooth_curve(history.history['loss'][:steps])\n",
    "    val_loss = smooth_curve(history.history['val_loss'][:steps])\n",
    "    \n",
    "    plt.figure(figsize=(6, 4))\n",
    "    plt.plot(loss, c='#0c7cba', label='Train Loss')\n",
    "    plt.plot(val_loss, c='#0f9d58', label='Val Loss')\n",
    "    plt.xticks(range(0, len(loss), 5))\n",
    "    plt.xlim(0, len(loss))\n",
    "    plt.title('Train Loss: %.3f, Val Loss: %.3f' % (loss[-1], val_loss[-1]), fontsize=12)\n",
    "    plt.legend()\n",
    "    \n",
    "    plt.figure(figsize=(6, 4))\n",
    "    plt.plot(acc, c='#0c7cba', label='Train Acc')\n",
    "    plt.plot(val_acc, c='#0f9d58', label='Val Acc')\n",
    "    plt.xticks(range(0, len(acc), 5))\n",
    "    plt.xlim(0, len(acc))\n",
    "    plt.title('Train Accuracy: %.3f, Val Accuracy: %.3f' % (acc[-1], val_acc[-1]), fontsize=12)\n",
    "    plt.legend()\n",
    "    \n",
    "plot_compare(history, steps=50)"
   ]
  }
 ],
 "metadata": {
  "kernelspec": {
   "display_name": "Python 3",
   "language": "python",
   "name": "python3"
  },
  "language_info": {
   "codemirror_mode": {
    "name": "ipython",
    "version": 3
   },
   "file_extension": ".py",
   "mimetype": "text/x-python",
   "name": "python",
   "nbconvert_exporter": "python",
   "pygments_lexer": "ipython3",
   "version": "3.7.3"
  }
 },
 "nbformat": 4,
 "nbformat_minor": 2
}
